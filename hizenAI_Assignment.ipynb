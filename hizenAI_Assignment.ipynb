{
  "cells": [
    {
      "cell_type": "markdown",
      "metadata": {
        "id": "view-in-github",
        "colab_type": "text"
      },
      "source": [
        "<a href=\"https://colab.research.google.com/github/gajalgarg09/hizenAI_Assignment/blob/main/hizenAI_Assignment.ipynb\" target=\"_parent\"><img src=\"https://colab.research.google.com/assets/colab-badge.svg\" alt=\"Open In Colab\"/></a>"
      ]
    },
    {
      "cell_type": "code",
      "execution_count": 6,
      "metadata": {
        "id": "kfggI6CPRxNZ"
      },
      "outputs": [],
      "source": [
        "import pandas as pd\n",
        "import numpy as np\n",
        "import matplotlib.pyplot as plt\n",
        "import seaborn as sns\n",
        "from sklearn.model_selection import train_test_split\n",
        "from sklearn.ensemble import RandomForestClassifier\n",
        "from sklearn.metrics import classification_report , roc_auc_score, confusion_matrix\n",
        "from sklearn.preprocessing import LabelEncoder , StandardScaler\n",
        "from imblearn.over_sampling import SMOTE"
      ]
    },
    {
      "cell_type": "code",
      "execution_count": 8,
      "metadata": {
        "id": "A9pSjTFbTeG8"
      },
      "outputs": [],
      "source": [
        "# Loading Dataset\n",
        "\n",
        "data = pd.read_csv('events.csv' , parse_dates = ['event_time'])\n",
        "\n",
        "data['event_time'] = pd.to_datetime(data['event_time'])\n",
        "\n",
        "\n",
        "#  parse_dates = ['event_time'] -> automatically converts the event_time column to\n",
        "# datetime format while reading the dataset itherwise pandas will read events_time\n",
        "# as strings"
      ]
    },
    {
      "cell_type": "code",
      "execution_count": 9,
      "metadata": {
        "colab": {
          "base_uri": "https://localhost:8080/"
        },
        "id": "3icacAxYUofX",
        "outputId": "26d805f4-2c4a-4547-b531-0ea851af898d"
      },
      "outputs": [
        {
          "output_type": "stream",
          "name": "stdout",
          "text": [
            "Data Overview : \n",
            "                 event_time event_type  product_id          category_id  \\\n",
            "0 2020-09-24 11:57:06+00:00       view     1996170  2144415922528452715   \n",
            "1 2020-09-24 11:57:26+00:00       view      139905  2144415926932472027   \n",
            "2 2020-09-24 11:57:27+00:00       view      215454  2144415927158964449   \n",
            "3 2020-09-24 11:57:33+00:00       view      635807  2144415923107266682   \n",
            "4 2020-09-24 11:57:36+00:00       view     3658723  2144415921169498184   \n",
            "\n",
            "                   category_code        brand   price              user_id  \\\n",
            "0          electronics.telephone          NaN   31.90  1515915625519388267   \n",
            "1    computers.components.cooler       zalman   17.16  1515915625519380411   \n",
            "2                            NaN          NaN    9.81  1515915625513238515   \n",
            "3  computers.peripherals.printer       pantum  113.81  1515915625519014356   \n",
            "4                            NaN  cameronsino   15.87  1515915625510743344   \n",
            "\n",
            "  user_session  \n",
            "0   LJuJVLEjPT  \n",
            "1   tdicluNnRY  \n",
            "2   4TMArHtXQy  \n",
            "3   aGFYrNgC08  \n",
            "4   aa4mmk0kwQ  \n",
            "\n",
            " Basic Information :\n",
            "<class 'pandas.core.frame.DataFrame'>\n",
            "RangeIndex: 885129 entries, 0 to 885128\n",
            "Data columns (total 9 columns):\n",
            " #   Column         Non-Null Count   Dtype              \n",
            "---  ------         --------------   -----              \n",
            " 0   event_time     885129 non-null  datetime64[ns, UTC]\n",
            " 1   event_type     885129 non-null  object             \n",
            " 2   product_id     885129 non-null  int64              \n",
            " 3   category_id    885129 non-null  int64              \n",
            " 4   category_code  648910 non-null  object             \n",
            " 5   brand          672765 non-null  object             \n",
            " 6   price          885129 non-null  float64            \n",
            " 7   user_id        885129 non-null  int64              \n",
            " 8   user_session   884964 non-null  object             \n",
            "dtypes: datetime64[ns, UTC](1), float64(1), int64(3), object(4)\n",
            "memory usage: 60.8+ MB\n",
            "None\n",
            " \n",
            " Statistics Summary : \n",
            "         product_id   category_id          price       user_id\n",
            "count  8.851290e+05  8.851290e+05  885129.000000  8.851290e+05\n",
            "mean   1.906621e+06  2.144423e+18     146.328713  1.515916e+18\n",
            "std    1.458708e+06  6.165105e+14     296.807683  3.747287e+07\n",
            "min    1.020000e+02  2.144416e+18       0.220000  1.515916e+18\n",
            "25%    6.988030e+05  2.144416e+18      26.460000  1.515916e+18\n",
            "50%    1.452883e+06  2.144416e+18      65.710000  1.515916e+18\n",
            "75%    3.721194e+06  2.144416e+18     190.490000  1.515916e+18\n",
            "max    4.183880e+06  2.227847e+18   64771.060000  1.515916e+18\n"
          ]
        }
      ],
      "source": [
        "# EDA (Exploratory Data Analysis)\n",
        "\n",
        "print('Data Overview : ')\n",
        "print(data.head())\n",
        "\n",
        "print(\"\\n Basic Information :\")\n",
        "print(data.info())\n",
        "\n",
        "print(\" \\n Statistics Summary : \")\n",
        "print(data.describe())"
      ]
    },
    {
      "cell_type": "code",
      "execution_count": 10,
      "metadata": {
        "colab": {
          "base_uri": "https://localhost:8080/"
        },
        "id": "m6XZ-HjXVO6u",
        "outputId": "fce13397-b27f-4f4d-be14-0623a7b9a225"
      },
      "outputs": [
        {
          "output_type": "stream",
          "name": "stdout",
          "text": [
            "\n",
            " Missing Values: \n",
            "event_time            0\n",
            "event_type            0\n",
            "product_id            0\n",
            "category_id           0\n",
            "category_code    236219\n",
            "brand            212364\n",
            "price                 0\n",
            "user_id               0\n",
            "user_session        165\n",
            "dtype: int64\n"
          ]
        }
      ],
      "source": [
        "# Checking for missing values\n",
        "print(\"\\n Missing Values: \")\n",
        "print(data.isnull().sum())\n",
        "\n",
        "# it prints the count of missing values in each column of the dataset"
      ]
    },
    {
      "cell_type": "code",
      "execution_count": 11,
      "metadata": {
        "id": "H2m_OHXZWB5X"
      },
      "outputs": [],
      "source": [
        "# Handling missing values\n",
        "\n",
        "categorical_cols = data.select_dtypes(include = ['object']).columns\n",
        "\n",
        "# We'll impute 'category_code' with 'Unknown'\n",
        "data['category_code'] = data['category_code'].fillna('Unknown')\n",
        "\n",
        "# We'll impute 'brand' with 'Unknown'\n",
        "data['brand'] = data['brand'].fillna('Unknown')\n",
        "\n",
        "# We'll impute 'user_session' with 'Unknown'\n",
        "data['user_session'] = data['user_session'].fillna('Unknown')"
      ]
    },
    {
      "cell_type": "code",
      "execution_count": 12,
      "metadata": {
        "colab": {
          "base_uri": "https://localhost:8080/"
        },
        "id": "y3MkezHYZIR3",
        "outputId": "37f48689-5276-4f24-8ffa-0b2a91312239"
      },
      "outputs": [
        {
          "output_type": "stream",
          "name": "stdout",
          "text": [
            "\n",
            " Missing Values: \n",
            "event_time       0\n",
            "event_type       0\n",
            "product_id       0\n",
            "category_id      0\n",
            "category_code    0\n",
            "brand            0\n",
            "price            0\n",
            "user_id          0\n",
            "user_session     0\n",
            "dtype: int64\n"
          ]
        }
      ],
      "source": [
        "# Checking for missing values after handling\n",
        "\n",
        "print(\"\\n Missing Values: \")\n",
        "print(data.isnull().sum())"
      ]
    },
    {
      "cell_type": "code",
      "execution_count": 13,
      "metadata": {
        "colab": {
          "base_uri": "https://localhost:8080/",
          "height": 564
        },
        "id": "5SI1E8u3eAxH",
        "outputId": "d1405c9f-f822-450f-c9e5-3b0313032db0"
      },
      "outputs": [
        {
          "output_type": "display_data",
          "data": {
            "text/plain": [
              "<Figure size 800x600 with 1 Axes>"
            ],
            "image/png": "[encoded data removed]"
          },
          "metadata": {}
        }
      ],
      "source": [
        "# Event Type Distribution\n",
        "plt.figure(figsize=(8, 6))\n",
        "sns.countplot(x='event_type', data=data, order=data['event_type'].value_counts().index)\n",
        "plt.title('Event Type Distribution')\n",
        "plt.xlabel('Event Type')\n",
        "plt.ylabel('Count')\n",
        "plt.show()"
      ]
    },
    {
      "cell_type": "code",
      "execution_count": 14,
      "metadata": {
        "colab": {
          "base_uri": "https://localhost:8080/"
        },
        "id": "5zXZZ224erw_",
        "outputId": "4a2e831d-76ac-47eb-f85c-11e640f8c13d"
      },
      "outputs": [
        {
          "output_type": "stream",
          "name": "stdout",
          "text": [
            "\n",
            " User Events Summary : \n",
            "event_type           cart  purchase  view\n",
            "user_id                                  \n",
            "1515915625353226922     0         0     1\n",
            "1515915625353230067     0         0     1\n",
            "1515915625353230683     0         0    13\n",
            "1515915625353230922     0         0     1\n",
            "1515915625353234047     0         0    36\n"
          ]
        }
      ],
      "source": [
        "# User behaviour analysis\n",
        "\n",
        "user_events = data.groupby('user_id')['event_type'].value_counts().unstack(fill_value = 0)\n",
        "print(\"\\n User Events Summary : \")\n",
        "print(user_events.head())"
      ]
    },
    {
      "cell_type": "code",
      "execution_count": 15,
      "metadata": {
        "id": "lwXf9B83fMdg"
      },
      "outputs": [],
      "source": [
        "# Defining Churn -> users who have not made a purchase in last X days\n",
        "X_days = 30\n",
        "latest_date = data['event_time'].max()\n",
        "\n",
        "last_purchase_date = data[data['event_type'] == 'purchase'].groupby('user_id')['event_time'].max()\n",
        "last_purchase_date = pd.to_datetime(last_purchase_date)\n",
        "\n",
        "user_last_purchase = last_purchase_date.apply(lambda x : (latest_date - x).days)\n",
        "\n",
        "churn_threshold = X_days\n",
        "churn_users = user_last_purchase[user_last_purchase > churn_threshold].index\n",
        "\n",
        "data['is_churn'] = data['user_id'].isin(churn_users).astype(int)"
      ]
    },
    {
      "cell_type": "code",
      "execution_count": 16,
      "metadata": {
        "id": "nIwSSD8fgLtI"
      },
      "outputs": [],
      "source": [
        "# Feature Engineering\n",
        "\n",
        "user_features = data.groupby('user_id').agg({\n",
        "    'event_time' : [\n",
        "        lambda x : (latest_date - x.max()).days, # Recency\n",
        "        'count' # Frequency\n",
        "    ],\n",
        "\n",
        "    'price' : 'sum' , # Monetary value\n",
        "    'user_session' : 'nunique' # Session count\n",
        "}).reset_index()\n",
        "\n",
        "user_features.columns = ['user_id', 'recency' , 'frequency' , 'monetary' ,\n",
        "                        'session_count']"
      ]
    },
    {
      "cell_type": "code",
      "execution_count": 17,
      "metadata": {
        "id": "UOVySzj_hxNk"
      },
      "outputs": [],
      "source": [
        "# Encoding categorical features\n",
        "le = LabelEncoder()\n",
        "data['category_code'] = le.fit_transform(data['category_code'])"
      ]
    },
    {
      "cell_type": "code",
      "execution_count": 18,
      "metadata": {
        "id": "XL1AG9dFiUhI"
      },
      "outputs": [],
      "source": [
        "# Prepare dataset for modeling\n",
        "data_model = data.merge(user_features , on = 'user_id' , how ='left')\n",
        "data_model['target'] = data_model['is_churn']"
      ]
    },
    {
      "cell_type": "code",
      "execution_count": 19,
      "metadata": {
        "id": "sM5puQeOim5w"
      },
      "outputs": [],
      "source": [
        "# Drop non-feature columns\n",
        "\n",
        "features = ['recency' , 'frequency' , 'monetary' , 'session_count']\n",
        "X = data_model[features]\n",
        "y = data_model['target']"
      ]
    },
    {
      "cell_type": "code",
      "execution_count": 20,
      "metadata": {
        "id": "ugHvC3QQi5Qu"
      },
      "outputs": [],
      "source": [
        "# Train - Test split\n",
        "x_train , x_test , y_train ,y_test = train_test_split(X,y, test_size=0.2,\n",
        "                                              random_state=42, stratify = y)"
      ]
    },
    {
      "cell_type": "code",
      "execution_count": 21,
      "metadata": {
        "id": "yja7zzcm-e8v"
      },
      "outputs": [],
      "source": [
        "# Handling class imbalance using SMOTE\n",
        "\n",
        "smote = SMOTE(random_state= 42)\n",
        "x_train , y_train = smote.fit_resample(x_train , y_train)\n",
        "\n",
        "# Scale Features\n",
        "scaler = StandardScaler()\n",
        "x_train_scaled = scaler.fit_transform(x_train)\n",
        "x_test_scaled = scaler.transform(x_test)"
      ]
    },
    {
      "cell_type": "code",
      "execution_count": 22,
      "metadata": {
        "colab": {
          "base_uri": "https://localhost:8080/",
          "height": 80
        },
        "id": "xscmTZpqjooG",
        "outputId": "c46f0523-1ff4-4b7f-e06e-6657a8fd8651"
      },
      "outputs": [
        {
          "output_type": "execute_result",
          "data": {
            "text/plain": [
              "RandomForestClassifier(random_state=42)"
            ],
            "text/html": [
              "<style>#sk-container-id-1 {\n",
              "  /* Definition of color scheme common for light and dark mode */\n",
              "  --sklearn-color-text: #000;\n",
              "  --sklearn-color-text-muted: #666;\n",
              "  --sklearn-color-line: gray;\n",
              "  /* Definition of color scheme for unfitted estimators */\n",
              "  --sklearn-color-unfitted-level-0: #fff5e6;\n",
              "  --sklearn-color-unfitted-level-1: #f6e4d2;\n",
              "  --sklearn-color-unfitted-level-2: #ffe0b3;\n",
              "  --sklearn-color-unfitted-level-3: chocolate;\n",
              "  /* Definition of color scheme for fitted estimators */\n",
              "  --sklearn-color-fitted-level-0: #f0f8ff;\n",
              "  --sklearn-color-fitted-level-1: #d4ebff;\n",
              "  --sklearn-color-fitted-level-2: #b3dbfd;\n",
              "  --sklearn-color-fitted-level-3: cornflowerblue;\n",
              "\n",
              "  /* Specific color for light theme */\n",
              "  --sklearn-color-text-on-default-background: var(--sg-text-color, var(--theme-code-foreground, var(--jp-content-font-color1, black)));\n",
              "  --sklearn-color-background: var(--sg-background-color, var(--theme-background, var(--jp-layout-color0, white)));\n",
              "  --sklearn-color-border-box: var(--sg-text-color, var(--theme-code-foreground, var(--jp-content-font-color1, black)));\n",
              "  --sklearn-color-icon: #696969;\n",
              "\n",
              "  @media (prefers-color-scheme: dark) {\n",
              "    /* Redefinition of color scheme for dark theme */\n",
              "    --sklearn-color-text-on-default-background: var(--sg-text-color, var(--theme-code-foreground, var(--jp-content-font-color1, white)));\n",
              "    --sklearn-color-background: var(--sg-background-color, var(--theme-background, var(--jp-layout-color0, #111)));\n",
              "    --sklearn-color-border-box: var(--sg-text-color, var(--theme-code-foreground, var(--jp-content-font-color1, white)));\n",
              "    --sklearn-color-icon: #878787;\n",
              "  }\n",
              "}\n",
              "\n",
              "#sk-container-id-1 {\n",
              "  color: var(--sklearn-color-text);\n",
              "}\n",
              "\n",
              "#sk-container-id-1 pre {\n",
              "  padding: 0;\n",
              "}\n",
              "\n",
              "#sk-container-id-1 input.sk-hidden--visually {\n",
              "  border: 0;\n",
              "  clip: rect(1px 1px 1px 1px);\n",
              "  clip: rect(1px, 1px, 1px, 1px);\n",
              "  height: 1px;\n",
              "  margin: -1px;\n",
              "  overflow: hidden;\n",
              "  padding: 0;\n",
              "  position: absolute;\n",
              "  width: 1px;\n",
              "}\n",
              "\n",
              "#sk-container-id-1 div.sk-dashed-wrapped {\n",
              "  border: 1px dashed var(--sklearn-color-line);\n",
              "  margin: 0 0.4em 0.5em 0.4em;\n",
              "  box-sizing: border-box;\n",
              "  padding-bottom: 0.4em;\n",
              "  background-color: var(--sklearn-color-background);\n",
              "}\n",
              "\n",
              "#sk-container-id-1 div.sk-container {\n",
              "  /* jupyter's `normalize.less` sets `[hidden] { display: none; }`\n",
              "     but bootstrap.min.css set `[hidden] { display: none !important; }`\n",
              "     so we also need the `!important` here to be able to override the\n",
              "     default hidden behavior on the sphinx rendered scikit-learn.org.\n",
              "     See: https://github.com/scikit-learn/scikit-learn/issues/21755 */\n",
              "  display: inline-block !important;\n",
              "  position: relative;\n",
              "}\n",
              "\n",
              "#sk-container-id-1 div.sk-text-repr-fallback {\n",
              "  display: none;\n",
              "}\n",
              "\n",
              "div.sk-parallel-item,\n",
              "div.sk-serial,\n",
              "div.sk-item {\n",
              "  /* draw centered vertical line to link estimators */\n",
              "  background-image: linear-gradient(var(--sklearn-color-text-on-default-background), var(--sklearn-color-text-on-default-background));\n",
              "  background-size: 2px 100%;\n",
              "  background-repeat: no-repeat;\n",
              "  background-position: center center;\n",
              "}\n",
              "\n",
              "/* Parallel-specific style estimator block */\n",
              "\n",
              "#sk-container-id-1 div.sk-parallel-item::after {\n",
              "  content: \"\";\n",
              "  width: 100%;\n",
              "  border-bottom: 2px solid var(--sklearn-color-text-on-default-background);\n",
              "  flex-grow: 1;\n",
              "}\n",
              "\n",
              "#sk-container-id-1 div.sk-parallel {\n",
              "  display: flex;\n",
              "  align-items: stretch;\n",
              "  justify-content: center;\n",
              "  background-color: var(--sklearn-color-background);\n",
              "  position: relative;\n",
              "}\n",
              "\n",
              "#sk-container-id-1 div.sk-parallel-item {\n",
              "  display: flex;\n",
              "  flex-direction: column;\n",
              "}\n",
              "\n",
              "#sk-container-id-1 div.sk-parallel-item:first-child::after {\n",
              "  align-self: flex-end;\n",
              "  width: 50%;\n",
              "}\n",
              "\n",
              "#sk-container-id-1 div.sk-parallel-item:last-child::after {\n",
              "  align-self: flex-start;\n",
              "  width: 50%;\n",
              "}\n",
              "\n",
              "#sk-container-id-1 div.sk-parallel-item:only-child::after {\n",
              "  width: 0;\n",
              "}\n",
              "\n",
              "/* Serial-specific style estimator block */\n",
              "\n",
              "#sk-container-id-1 div.sk-serial {\n",
              "  display: flex;\n",
              "  flex-direction: column;\n",
              "  align-items: center;\n",
              "  background-color: var(--sklearn-color-background);\n",
              "  padding-right: 1em;\n",
              "  padding-left: 1em;\n",
              "}\n",
              "\n",
              "\n",
              "/* Toggleable style: style used for estimator/Pipeline/ColumnTransformer box that is\n",
              "clickable and can be expanded/collapsed.\n",
              "- Pipeline and ColumnTransformer use this feature and define the default style\n",
              "- Estimators will overwrite some part of the style using the `sk-estimator` class\n",
              "*/\n",
              "\n",
              "/* Pipeline and ColumnTransformer style (default) */\n",
              "\n",
              "#sk-container-id-1 div.sk-toggleable {\n",
              "  /* Default theme specific background. It is overwritten whether we have a\n",
              "  specific estimator or a Pipeline/ColumnTransformer */\n",
              "  background-color: var(--sklearn-color-background);\n",
              "}\n",
              "\n",
              "/* Toggleable label */\n",
              "#sk-container-id-1 label.sk-toggleable__label {\n",
              "  cursor: pointer;\n",
              "  display: flex;\n",
              "  width: 100%;\n",
              "  margin-bottom: 0;\n",
              "  padding: 0.5em;\n",
              "  box-sizing: border-box;\n",
              "  text-align: center;\n",
              "  align-items: start;\n",
              "  justify-content: space-between;\n",
              "  gap: 0.5em;\n",
              "}\n",
              "\n",
              "#sk-container-id-1 label.sk-toggleable__label .caption {\n",
              "  font-size: 0.6rem;\n",
              "  font-weight: lighter;\n",
              "  color: var(--sklearn-color-text-muted);\n",
              "}\n",
              "\n",
              "#sk-container-id-1 label.sk-toggleable__label-arrow:before {\n",
              "  /* Arrow on the left of the label */\n",
              "  content: \"▸\";\n",
              "  float: left;\n",
              "  margin-right: 0.25em;\n",
              "  color: var(--sklearn-color-icon);\n",
              "}\n",
              "\n",
              "#sk-container-id-1 label.sk-toggleable__label-arrow:hover:before {\n",
              "  color: var(--sklearn-color-text);\n",
              "}\n",
              "\n",
              "/* Toggleable content - dropdown */\n",
              "\n",
              "#sk-container-id-1 div.sk-toggleable__content {\n",
              "  max-height: 0;\n",
              "  max-width: 0;\n",
              "  overflow: hidden;\n",
              "  text-align: left;\n",
              "  /* unfitted */\n",
              "  background-color: var(--sklearn-color-unfitted-level-0);\n",
              "}\n",
              "\n",
              "#sk-container-id-1 div.sk-toggleable__content.fitted {\n",
              "  /* fitted */\n",
              "  background-color: var(--sklearn-color-fitted-level-0);\n",
              "}\n",
              "\n",
              "#sk-container-id-1 div.sk-toggleable__content pre {\n",
              "  margin: 0.2em;\n",
              "  border-radius: 0.25em;\n",
              "  color: var(--sklearn-color-text);\n",
              "  /* unfitted */\n",
              "  background-color: var(--sklearn-color-unfitted-level-0);\n",
              "}\n",
              "\n",
              "#sk-container-id-1 div.sk-toggleable__content.fitted pre {\n",
              "  /* unfitted */\n",
              "  background-color: var(--sklearn-color-fitted-level-0);\n",
              "}\n",
              "\n",
              "#sk-container-id-1 input.sk-toggleable__control:checked~div.sk-toggleable__content {\n",
              "  /* Expand drop-down */\n",
              "  max-height: 200px;\n",
              "  max-width: 100%;\n",
              "  overflow: auto;\n",
              "}\n",
              "\n",
              "#sk-container-id-1 input.sk-toggleable__control:checked~label.sk-toggleable__label-arrow:before {\n",
              "  content: \"▾\";\n",
              "}\n",
              "\n",
              "/* Pipeline/ColumnTransformer-specific style */\n",
              "\n",
              "#sk-container-id-1 div.sk-label input.sk-toggleable__control:checked~label.sk-toggleable__label {\n",
              "  color: var(--sklearn-color-text);\n",
              "  background-color: var(--sklearn-color-unfitted-level-2);\n",
              "}\n",
              "\n",
              "#sk-container-id-1 div.sk-label.fitted input.sk-toggleable__control:checked~label.sk-toggleable__label {\n",
              "  background-color: var(--sklearn-color-fitted-level-2);\n",
              "}\n",
              "\n",
              "/* Estimator-specific style */\n",
              "\n",
              "/* Colorize estimator box */\n",
              "#sk-container-id-1 div.sk-estimator input.sk-toggleable__control:checked~label.sk-toggleable__label {\n",
              "  /* unfitted */\n",
              "  background-color: var(--sklearn-color-unfitted-level-2);\n",
              "}\n",
              "\n",
              "#sk-container-id-1 div.sk-estimator.fitted input.sk-toggleable__control:checked~label.sk-toggleable__label {\n",
              "  /* fitted */\n",
              "  background-color: var(--sklearn-color-fitted-level-2);\n",
              "}\n",
              "\n",
              "#sk-container-id-1 div.sk-label label.sk-toggleable__label,\n",
              "#sk-container-id-1 div.sk-label label {\n",
              "  /* The background is the default theme color */\n",
              "  color: var(--sklearn-color-text-on-default-background);\n",
              "}\n",
              "\n",
              "/* On hover, darken the color of the background */\n",
              "#sk-container-id-1 div.sk-label:hover label.sk-toggleable__label {\n",
              "  color: var(--sklearn-color-text);\n",
              "  background-color: var(--sklearn-color-unfitted-level-2);\n",
              "}\n",
              "\n",
              "/* Label box, darken color on hover, fitted */\n",
              "#sk-container-id-1 div.sk-label.fitted:hover label.sk-toggleable__label.fitted {\n",
              "  color: var(--sklearn-color-text);\n",
              "  background-color: var(--sklearn-color-fitted-level-2);\n",
              "}\n",
              "\n",
              "/* Estimator label */\n",
              "\n",
              "#sk-container-id-1 div.sk-label label {\n",
              "  font-family: monospace;\n",
              "  font-weight: bold;\n",
              "  display: inline-block;\n",
              "  line-height: 1.2em;\n",
              "}\n",
              "\n",
              "#sk-container-id-1 div.sk-label-container {\n",
              "  text-align: center;\n",
              "}\n",
              "\n",
              "/* Estimator-specific */\n",
              "#sk-container-id-1 div.sk-estimator {\n",
              "  font-family: monospace;\n",
              "  border: 1px dotted var(--sklearn-color-border-box);\n",
              "  border-radius: 0.25em;\n",
              "  box-sizing: border-box;\n",
              "  margin-bottom: 0.5em;\n",
              "  /* unfitted */\n",
              "  background-color: var(--sklearn-color-unfitted-level-0);\n",
              "}\n",
              "\n",
              "#sk-container-id-1 div.sk-estimator.fitted {\n",
              "  /* fitted */\n",
              "  background-color: var(--sklearn-color-fitted-level-0);\n",
              "}\n",
              "\n",
              "/* on hover */\n",
              "#sk-container-id-1 div.sk-estimator:hover {\n",
              "  /* unfitted */\n",
              "  background-color: var(--sklearn-color-unfitted-level-2);\n",
              "}\n",
              "\n",
              "#sk-container-id-1 div.sk-estimator.fitted:hover {\n",
              "  /* fitted */\n",
              "  background-color: var(--sklearn-color-fitted-level-2);\n",
              "}\n",
              "\n",
              "/* Specification for estimator info (e.g. \"i\" and \"?\") */\n",
              "\n",
              "/* Common style for \"i\" and \"?\" */\n",
              "\n",
              ".sk-estimator-doc-link,\n",
              "a:link.sk-estimator-doc-link,\n",
              "a:visited.sk-estimator-doc-link {\n",
              "  float: right;\n",
              "  font-size: smaller;\n",
              "  line-height: 1em;\n",
              "  font-family: monospace;\n",
              "  background-color: var(--sklearn-color-background);\n",
              "  border-radius: 1em;\n",
              "  height: 1em;\n",
              "  width: 1em;\n",
              "  text-decoration: none !important;\n",
              "  margin-left: 0.5em;\n",
              "  text-align: center;\n",
              "  /* unfitted */\n",
              "  border: var(--sklearn-color-unfitted-level-1) 1pt solid;\n",
              "  color: var(--sklearn-color-unfitted-level-1);\n",
              "}\n",
              "\n",
              ".sk-estimator-doc-link.fitted,\n",
              "a:link.sk-estimator-doc-link.fitted,\n",
              "a:visited.sk-estimator-doc-link.fitted {\n",
              "  /* fitted */\n",
              "  border: var(--sklearn-color-fitted-level-1) 1pt solid;\n",
              "  color: var(--sklearn-color-fitted-level-1);\n",
              "}\n",
              "\n",
              "/* On hover */\n",
              "div.sk-estimator:hover .sk-estimator-doc-link:hover,\n",
              ".sk-estimator-doc-link:hover,\n",
              "div.sk-label-container:hover .sk-estimator-doc-link:hover,\n",
              ".sk-estimator-doc-link:hover {\n",
              "  /* unfitted */\n",
              "  background-color: var(--sklearn-color-unfitted-level-3);\n",
              "  color: var(--sklearn-color-background);\n",
              "  text-decoration: none;\n",
              "}\n",
              "\n",
              "div.sk-estimator.fitted:hover .sk-estimator-doc-link.fitted:hover,\n",
              ".sk-estimator-doc-link.fitted:hover,\n",
              "div.sk-label-container:hover .sk-estimator-doc-link.fitted:hover,\n",
              ".sk-estimator-doc-link.fitted:hover {\n",
              "  /* fitted */\n",
              "  background-color: var(--sklearn-color-fitted-level-3);\n",
              "  color: var(--sklearn-color-background);\n",
              "  text-decoration: none;\n",
              "}\n",
              "\n",
              "/* Span, style for the box shown on hovering the info icon */\n",
              ".sk-estimator-doc-link span {\n",
              "  display: none;\n",
              "  z-index: 9999;\n",
              "  position: relative;\n",
              "  font-weight: normal;\n",
              "  right: .2ex;\n",
              "  padding: .5ex;\n",
              "  margin: .5ex;\n",
              "  width: min-content;\n",
              "  min-width: 20ex;\n",
              "  max-width: 50ex;\n",
              "  color: var(--sklearn-color-text);\n",
              "  box-shadow: 2pt 2pt 4pt #999;\n",
              "  /* unfitted */\n",
              "  background: var(--sklearn-color-unfitted-level-0);\n",
              "  border: .5pt solid var(--sklearn-color-unfitted-level-3);\n",
              "}\n",
              "\n",
              ".sk-estimator-doc-link.fitted span {\n",
              "  /* fitted */\n",
              "  background: var(--sklearn-color-fitted-level-0);\n",
              "  border: var(--sklearn-color-fitted-level-3);\n",
              "}\n",
              "\n",
              ".sk-estimator-doc-link:hover span {\n",
              "  display: block;\n",
              "}\n",
              "\n",
              "/* \"?\"-specific style due to the `<a>` HTML tag */\n",
              "\n",
              "#sk-container-id-1 a.estimator_doc_link {\n",
              "  float: right;\n",
              "  font-size: 1rem;\n",
              "  line-height: 1em;\n",
              "  font-family: monospace;\n",
              "  background-color: var(--sklearn-color-background);\n",
              "  border-radius: 1rem;\n",
              "  height: 1rem;\n",
              "  width: 1rem;\n",
              "  text-decoration: none;\n",
              "  /* unfitted */\n",
              "  color: var(--sklearn-color-unfitted-level-1);\n",
              "  border: var(--sklearn-color-unfitted-level-1) 1pt solid;\n",
              "}\n",
              "\n",
              "#sk-container-id-1 a.estimator_doc_link.fitted {\n",
              "  /* fitted */\n",
              "  border: var(--sklearn-color-fitted-level-1) 1pt solid;\n",
              "  color: var(--sklearn-color-fitted-level-1);\n",
              "}\n",
              "\n",
              "/* On hover */\n",
              "#sk-container-id-1 a.estimator_doc_link:hover {\n",
              "  /* unfitted */\n",
              "  background-color: var(--sklearn-color-unfitted-level-3);\n",
              "  color: var(--sklearn-color-background);\n",
              "  text-decoration: none;\n",
              "}\n",
              "\n",
              "#sk-container-id-1 a.estimator_doc_link.fitted:hover {\n",
              "  /* fitted */\n",
              "  background-color: var(--sklearn-color-fitted-level-3);\n",
              "}\n",
              "</style><div id=\"sk-container-id-1\" class=\"sk-top-container\"><div class=\"sk-text-repr-fallback\"><pre>RandomForestClassifier(random_state=42)</pre><b>In a Jupyter environment, please rerun this cell to show the HTML representation or trust the notebook. <br />On GitHub, the HTML representation is unable to render, please try loading this page with nbviewer.org.</b></div><div class=\"sk-container\" hidden><div class=\"sk-item\"><div class=\"sk-estimator fitted sk-toggleable\"><input class=\"sk-toggleable__control sk-hidden--visually\" id=\"sk-estimator-id-1\" type=\"checkbox\" checked><label for=\"sk-estimator-id-1\" class=\"sk-toggleable__label fitted sk-toggleable__label-arrow\"><div><div>RandomForestClassifier</div></div><div><a class=\"sk-estimator-doc-link fitted\" rel=\"noreferrer\" target=\"_blank\" href=\"https://scikit-learn.org/1.6/modules/generated/sklearn.ensemble.RandomForestClassifier.html\">?<span>Documentation for RandomForestClassifier</span></a><span class=\"sk-estimator-doc-link fitted\">i<span>Fitted</span></span></div></label><div class=\"sk-toggleable__content fitted\"><pre>RandomForestClassifier(random_state=42)</pre></div> </div></div></div></div>"
            ]
          },
          "metadata": {},
          "execution_count": 22
        }
      ],
      "source": [
        "# Model Building - Random Forest\n",
        "rf = RandomForestClassifier(random_state = 42)\n",
        "rf.fit(x_train_scaled , y_train)"
      ]
    },
    {
      "cell_type": "code",
      "execution_count": 23,
      "metadata": {
        "id": "N1Mz6vidj471"
      },
      "outputs": [],
      "source": [
        "# Predictions\n",
        "y_pred = rf.predict(x_test_scaled)\n",
        "y_proba = rf.predict_proba(x_test_scaled)[:,1]"
      ]
    },
    {
      "cell_type": "code",
      "execution_count": 25,
      "metadata": {
        "colab": {
          "base_uri": "https://localhost:8080/"
        },
        "id": "_WX89llEk8Go",
        "outputId": "69f59ad0-fb1c-4654-dbe3-182b8550508d"
      },
      "outputs": [
        {
          "output_type": "stream",
          "name": "stdout",
          "text": [
            "\n",
            " Classification Report : \n",
            "              precision    recall  f1-score   support\n",
            "\n",
            "           0       1.00      1.00      1.00    148882\n",
            "           1       0.98      0.99      0.99     28144\n",
            "\n",
            "    accuracy                           1.00    177026\n",
            "   macro avg       0.99      1.00      0.99    177026\n",
            "weighted avg       1.00      1.00      1.00    177026\n",
            "\n",
            "\n",
            " AUC Score :  0.9988273732252974\n"
          ]
        }
      ],
      "source": [
        "# Performace Metrics\n",
        "print(\"\\n Classification Report : \")\n",
        "print(classification_report(y_test , y_pred))\n",
        "print(\"\\n AUC Score : \" , roc_auc_score(y_test , y_proba))"
      ]
    },
    {
      "cell_type": "code",
      "execution_count": 26,
      "metadata": {
        "colab": {
          "base_uri": "https://localhost:8080/",
          "height": 685
        },
        "id": "-zZToS6j8Rtg",
        "outputId": "8ee02d1f-0574-4372-b36c-410119c91059"
      },
      "outputs": [
        {
          "output_type": "stream",
          "name": "stdout",
          "text": [
            "\n",
            " Feature importances : \n",
            "         Feature  Importance\n",
            "1      frequency    0.406697\n",
            "2       monetary    0.295160\n",
            "0        recency    0.237792\n",
            "3  session_count    0.060351\n"
          ]
        },
        {
          "output_type": "display_data",
          "data": {
            "text/plain": [
              "<Figure size 800x600 with 1 Axes>"
            ],
            "image/png": "[encoded data removed]"
          },
          "metadata": {}
        }
      ],
      "source": [
        "# Feature importance\n",
        "feature_importances = pd.DataFrame({\n",
        "    'Feature' : features,\n",
        "    'Importance' : rf.feature_importances_\n",
        "}).sort_values(by='Importance' , ascending = False)\n",
        "\n",
        "print(\"\\n Feature importances : \")\n",
        "print(feature_importances)\n",
        "\n",
        "plt.figure(figsize=(8, 6))\n",
        "sns.barplot(x='Importance', y='Feature', data=feature_importances)\n",
        "plt.title('Feature Importance')\n",
        "plt.show()"
      ]
    },
    {
      "cell_type": "code",
      "source": [
        "# Recommendations\n",
        "print(\"\\nRecommendations:\")\n",
        "print(\"1. Offer personalized discounts to users with high cart-to-purchase ratios.\")\n",
        "print(\"2. Target inactive users with marketing emails or reminders within the first 30 days of inactivity.\")\n",
        "print(\"3. Focus on improving the top categories or products associated with churn.\")\n",
        "print(\"4. Use push notifications or app messages to remind users of abandoned carts and offer incentives like free shipping or discounts.\")\n",
        "print(\"5. Offer loyalty programs or reward points to users who make frequent purchases to encourage retention.\")\n",
        "print(\"6. Identify popular brands and categories among active users and promote them to at-risk users through targeted ads.\")"
      ],
      "metadata": {
        "id": "fVkGigwMI5O6",
        "colab": {
          "base_uri": "https://localhost:8080/"
        },
        "outputId": "434bc497-91cb-41a8-b5d8-ec9fb9111603"
      },
      "execution_count": 2,
      "outputs": [
        {
          "output_type": "stream",
          "name": "stdout",
          "text": [
            "\n",
            "Recommendations:\n",
            "1. Offer personalized discounts to users with high cart-to-purchase ratios.\n",
            "2. Target inactive users with marketing emails or reminders within the first 30 days of inactivity.\n",
            "3. Focus on improving the top categories or products associated with churn.\n",
            "4. Use push notifications or app messages to remind users of abandoned carts and offer incentives like free shipping or discounts.\n",
            "5. Offer loyalty programs or reward points to users who make frequent purchases to encourage retention.\n",
            "6. Identify popular brands and categories among active users and promote them to at-risk users through targeted ads.\n"
          ]
        }
      ]
    }
  ],
  "metadata": {
    "colab": {
      "provenance": [],
      "gpuType": "T4",
      "authorship_tag": "ABX9TyMBgV/rKZSqiKMLVwHMvvZY",
      "include_colab_link": true
    },
    "kernelspec": {
      "display_name": "Python 3",
      "name": "python3"
    },
    "language_info": {
      "name": "python"
    },
    "accelerator": "GPU"
  },
  "nbformat": 4,
  "nbformat_minor": 0
}